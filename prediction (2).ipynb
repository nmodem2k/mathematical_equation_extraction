{
 "cells": [
  {
   "cell_type": "code",
   "execution_count": 91,
   "metadata": {},
   "outputs": [],
   "source": [
    "import cv2\n",
    "import numpy as np\n",
    "import matplotlib.pyplot as plt"
   ]
  },
  {
   "cell_type": "code",
   "execution_count": 92,
   "metadata": {},
   "outputs": [],
   "source": [
    "image = cv2.imread('6.jpg',cv2.IMREAD_GRAYSCALE)"
   ]
  },
  {
   "cell_type": "code",
   "execution_count": 93,
   "metadata": {},
   "outputs": [],
   "source": [
    "cv2.imshow(\"wo\",image)\n",
    "cv2.waitKey(0)\n",
    "cv2.destroyAllWindows()"
   ]
  },
  {
   "cell_type": "code",
   "execution_count": 94,
   "metadata": {},
   "outputs": [],
   "source": [
    "b=[]\n",
    "c=[]\n",
    "a=[]\n",
    "lines=[]"
   ]
  },
  {
   "cell_type": "code",
   "execution_count": 95,
   "metadata": {},
   "outputs": [
    {
     "name": "stdout",
     "output_type": "stream",
     "text": [
      "798+02\n",
      "321-456\n",
      "123*99\n"
     ]
    }
   ],
   "source": [
    "import cv2\n",
    "import numpy as np\n",
    "#import image\n",
    "image = cv2.imread('5.jpg')\n",
    "#cv2.imshow('orig',image)\n",
    "#cv2.waitKey(0)\n",
    "\n",
    "#grayscale\n",
    "gray = cv2.cvtColor(image,cv2.COLOR_BGR2GRAY)\n",
    "# cv2.imshow('gray',gray)\n",
    "# cv2.waitKey(0)\n",
    "\n",
    "#binary\n",
    "ret,thresh = cv2.threshold(gray,127,255,cv2.THRESH_BINARY_INV)\n",
    "# cv2.imshow('second',thresh)\n",
    "# cv2.waitKey(0)\n",
    "\n",
    "#dilation\n",
    "kernel = np.ones((5,100), np.uint8)\n",
    "img_dilation = cv2.dilate(thresh, kernel, iterations=1)\n",
    "# cv2.imshow('dilated',img_dilation)\n",
    "# cv2.waitKey(0)\n",
    "\n",
    "#find contours\n",
    "ctrs, hier = cv2.findContours(img_dilation.copy(), cv2.RETR_EXTERNAL, cv2.CHAIN_APPROX_SIMPLE)\n",
    "\n",
    "#sort contours\n",
    "sorted_ctrs = sorted(ctrs, key=lambda ctr: cv2.boundingRect(ctr)[0])\n",
    "\n",
    "for i, ctr in enumerate(sorted_ctrs):\n",
    "    # Get bounding box\n",
    "    x, y, w, h = cv2.boundingRect(ctr)\n",
    "    b.append(y)\n",
    "    # Getting ROI\n",
    "    roi = image[y:y+h, x:x+w]\n",
    "    a.append([x,y,w,h])\n",
    "\n",
    "    # show ROI\n",
    "    cv2.imshow('segment no:'+str(i),roi)\n",
    "    cv2.imwrite('ROI_{}.jpeg'.format(i+500), roi)\n",
    "    abc(cv2.imread('ROI_{}.jpeg'.format(i+500),cv2.IMREAD_GRAYSCALE))\n",
    "    cv2.rectangle(image,(x,y),( x + w, y + h ),(90,0,255),2)\n",
    "    cv2.waitKey(0)\n",
    "\n",
    "# cv2.imshow('marked areas',image)\n",
    "# cv2.waitKey(0)"
   ]
  },
  {
   "cell_type": "code",
   "execution_count": 96,
   "metadata": {},
   "outputs": [
    {
     "name": "stdout",
     "output_type": "stream",
     "text": [
      "['798+02', '321-456', '123*99']\n"
     ]
    }
   ],
   "source": [
    "print(lines)"
   ]
  },
  {
   "cell_type": "code",
   "execution_count": 97,
   "metadata": {},
   "outputs": [
    {
     "name": "stdout",
     "output_type": "stream",
     "text": [
      "[199, 36, 361]\n",
      "[36, 199, 361]\n"
     ]
    }
   ],
   "source": [
    "print(b)\n",
    "c=[]\n",
    "for i in b:\n",
    "    c.append(i)\n",
    "b.sort()\n",
    "print(b)\n"
   ]
  },
  {
   "cell_type": "code",
   "execution_count": 98,
   "metadata": {},
   "outputs": [],
   "source": [
    "ind=[]\n",
    "for i in b:\n",
    "    ind.append(c.index(i))"
   ]
  },
  {
   "cell_type": "code",
   "execution_count": 99,
   "metadata": {},
   "outputs": [
    {
     "name": "stdout",
     "output_type": "stream",
     "text": [
      "[36, 199, 361]\n",
      "[199, 36, 361]\n",
      "[1, 0, 2]\n"
     ]
    }
   ],
   "source": [
    "print(b)\n",
    "print(c)\n",
    "print(ind)"
   ]
  },
  {
   "cell_type": "code",
   "execution_count": 100,
   "metadata": {},
   "outputs": [
    {
     "name": "stdout",
     "output_type": "stream",
     "text": [
      "321-456\n",
      "798+02\n",
      "123*99\n"
     ]
    }
   ],
   "source": [
    "for i in ind:\n",
    "    print(lines[i])"
   ]
  },
  {
   "cell_type": "code",
   "execution_count": 80,
   "metadata": {},
   "outputs": [],
   "source": [
    "def abc(image):\n",
    "    if image is not None:\n",
    "    #images.append(img)\n",
    "        image=~image\n",
    "        ret,thresh=cv2.threshold(image,127,255,cv2.THRESH_BINARY)\n",
    "        ctrs,ret=cv2.findContours(thresh,cv2.RETR_TREE,cv2.CHAIN_APPROX_SIMPLE)\n",
    "        cnt=sorted(ctrs, key=lambda ctr: cv2.boundingRect(ctr)[0])\n",
    "        w=int(28)\n",
    "        h=int(28)\n",
    "        train_data=[]\n",
    "        #print(len(cnt))\n",
    "        rects=[]\n",
    "        for c in cnt :\n",
    "            x,y,w,h= cv2.boundingRect(c)\n",
    "#             print(x,y,w,h)\n",
    "            rect=[x,y,w,h]\n",
    "            rects.append(rect)\n",
    "        #print(rects)\n",
    "        bool_rect=[]\n",
    "        for r in rects:\n",
    "            l=[]\n",
    "            for rec in rects:\n",
    "                flag=0\n",
    "                if rec!=r:\n",
    "                    if r[0]<(rec[0]+rec[2]+10) and rec[0]<(r[0]+r[2]+10) and r[1]<(rec[1]+rec[3]+10) and rec[1]<(r[1]+r[3]+10):\n",
    "                        flag=1\n",
    "                    l.append(flag)\n",
    "                if rec==r:\n",
    "                    l.append(0)\n",
    "            bool_rect.append(l)\n",
    "        #print(bool_rect)\n",
    "        dump_rect=[]\n",
    "        for i in range(0,len(cnt)):\n",
    "            for j in range(0,len(cnt)):\n",
    "                if bool_rect[i][j]==1:\n",
    "                    area1=rects[i][2]*rects[i][3]\n",
    "                    area2=rects[j][2]*rects[j][3]\n",
    "                    if(area1==min(area1,area2)):\n",
    "                        dump_rect.append(rects[i])\n",
    "    #print(len(dump_rect)) \n",
    "        final_rect=[i for i in rects if i not in dump_rect]\n",
    "    #print(final_rect)\n",
    "        i=10\n",
    "        for r in final_rect:\n",
    "            x=r[0]\n",
    "            y=r[1]\n",
    "            w=r[2]\n",
    "            h=r[3]\n",
    "#             print(x,y,w,h)\n",
    "            im_crop =thresh[y:y+h+10,x:x+w+10]\n",
    "        \n",
    "\n",
    "            im_resize = cv2.resize(im_crop,(28,28))\n",
    "#         cv2.imwrite('ROI_{}.jpeg'.format(i+100), im_resize)\n",
    "            cv2.imshow(\"work\",im_resize)\n",
    "            cv2.waitKey(0)\n",
    "            cv2.destroyAllWindows()\n",
    "            i+=1\n",
    "            im_resize=np.reshape(im_resize,(1,28,28))\n",
    "            train_data.append(im_resize)\n",
    "        xyz(train_data)        \n",
    "    "
   ]
  },
  {
   "cell_type": "code",
   "execution_count": 41,
   "metadata": {},
   "outputs": [],
   "source": [
    "lines=[]"
   ]
  },
  {
   "cell_type": "code",
   "execution_count": 42,
   "metadata": {},
   "outputs": [],
   "source": [
    "def xyz(train_data):\n",
    "    s=''\n",
    "    for i in range(len(train_data)):\n",
    "        train_data[i]=np.array(train_data[i])\n",
    "        train_data[i]=train_data[i].reshape(1,1,28,28)\n",
    "        result=loaded_model.predict_classes(train_data[i])\n",
    "        if(result[0]==10):\n",
    "            s=s+'-'\n",
    "        if(result[0]==11):\n",
    "            s=s+'+'\n",
    "        if(result[0]==12):\n",
    "            s=s+'*'\n",
    "        if(result[0]==0):\n",
    "            s=s+'0'\n",
    "        if(result[0]==1):\n",
    "            s=s+'1'\n",
    "        if(result[0]==2):\n",
    "            s=s+'2'\n",
    "        if(result[0]==3):\n",
    "            s=s+'3'\n",
    "        if(result[0]==4):\n",
    "            s=s+'4'\n",
    "        if(result[0]==5):\n",
    "            s=s+'5'\n",
    "        if(result[0]==6):\n",
    "            s=s+'6'\n",
    "        if(result[0]==7):\n",
    "            s=s+'7'\n",
    "        if(result[0]==8):\n",
    "            s=s+'8'\n",
    "        if(result[0]==9):\n",
    "            s=s+'9'\n",
    "        if (result[0]==13):\n",
    "            s=s+')'\n",
    "        if (result[0]==14):\n",
    "            s=s+'('\n",
    "        if (result[0]==15):\n",
    "            s=s+' forall '\n",
    "        if (result[0]==16):\n",
    "            s=s+' lambda '\n",
    "        if (result[0]==17):\n",
    "            s=s+' mu '\n",
    "        if (result[0]==18):\n",
    "            s=s+' p '\n",
    "        if (result[0]==19):\n",
    "            s=s+' sigma '\n",
    "        if (result[0]==20):\n",
    "            s=s+' theta'\n",
    "    print(s)\n",
    "    lines.append(s)"
   ]
  },
  {
   "cell_type": "code",
   "execution_count": null,
   "metadata": {},
   "outputs": [],
   "source": []
  },
  {
   "cell_type": "code",
   "execution_count": null,
   "metadata": {},
   "outputs": [],
   "source": []
  },
  {
   "cell_type": "code",
   "execution_count": null,
   "metadata": {},
   "outputs": [],
   "source": []
  },
  {
   "cell_type": "code",
   "execution_count": null,
   "metadata": {},
   "outputs": [],
   "source": []
  },
  {
   "cell_type": "code",
   "execution_count": 5,
   "metadata": {},
   "outputs": [
    {
     "name": "stdout",
     "output_type": "stream",
     "text": [
      "29 58 61 90\n",
      "124 55 88 72\n",
      "242 64 53 93\n",
      "333 73 53 101\n",
      "414 94 75 45\n",
      "519 67 64 74\n"
     ]
    }
   ],
   "source": [
    "if image is not None:\n",
    "    #images.append(img)\n",
    "    image=~image\n",
    "    ret,thresh=cv2.threshold(image,127,255,cv2.THRESH_BINARY)\n",
    "    ctrs,ret=cv2.findContours(thresh,cv2.RETR_TREE,cv2.CHAIN_APPROX_SIMPLE)\n",
    "    cnt=sorted(ctrs, key=lambda ctr: cv2.boundingRect(ctr)[0])\n",
    "    w=int(28)\n",
    "    h=int(28)\n",
    "    train_data=[]\n",
    "    #print(len(cnt))\n",
    "    rects=[]\n",
    "    for c in cnt :\n",
    "        x,y,w,h= cv2.boundingRect(c)\n",
    "#         print(x,y,w,h)\n",
    "        rect=[x,y,w,h]\n",
    "        rects.append(rect)\n",
    "    #print(rects)\n",
    "    bool_rect=[]\n",
    "    for r in rects:\n",
    "        l=[]\n",
    "        for rec in rects:\n",
    "            flag=0\n",
    "            if rec!=r:\n",
    "                if r[0]<(rec[0]+rec[2]+10) and rec[0]<(r[0]+r[2]+10) and r[1]<(rec[1]+rec[3]+10) and rec[1]<(r[1]+r[3]+10):\n",
    "                    flag=1\n",
    "                l.append(flag)\n",
    "            if rec==r:\n",
    "                l.append(0)\n",
    "        bool_rect.append(l)\n",
    "    #print(bool_rect)\n",
    "    dump_rect=[]\n",
    "    for i in range(0,len(cnt)):\n",
    "        for j in range(0,len(cnt)):\n",
    "            if bool_rect[i][j]==1:\n",
    "                area1=rects[i][2]*rects[i][3]\n",
    "                area2=rects[j][2]*rects[j][3]\n",
    "                if(area1==min(area1,area2)):\n",
    "                    dump_rect.append(rects[i])\n",
    "    #print(len(dump_rect)) \n",
    "    final_rect=[i for i in rects if i not in dump_rect]\n",
    "    #print(final_rect)\n",
    "    i=10\n",
    "    for r in final_rect:\n",
    "        x=r[0]\n",
    "        y=r[1]\n",
    "        w=r[2]\n",
    "        h=r[3]\n",
    "        print(x,y,w,h)\n",
    "        im_crop =thresh[y:y+h+10,x:x+w+10]\n",
    "        \n",
    "\n",
    "        im_resize = cv2.resize(im_crop,(28,28))\n",
    "#         cv2.imwrite('ROI_{}.jpeg'.format(i+100), im_resize)\n",
    "        cv2.imshow(\"work\",im_resize)\n",
    "        cv2.waitKey(0)\n",
    "        cv2.destroyAllWindows()\n",
    "        i+=1\n",
    "        im_resize=np.reshape(im_resize,(1,28,28))\n",
    "        train_data.append(im_resize)"
   ]
  },
  {
   "cell_type": "code",
   "execution_count": null,
   "metadata": {},
   "outputs": [],
   "source": [
    "\n",
    "    "
   ]
  },
  {
   "cell_type": "code",
   "execution_count": 6,
   "metadata": {},
   "outputs": [
    {
     "data": {
      "text/plain": [
       "[[29, 58, 61, 90],\n",
       " [124, 55, 88, 72],\n",
       " [149, 91, 30, 31],\n",
       " [183, 85, 3, 3],\n",
       " [242, 64, 53, 93],\n",
       " [333, 73, 53, 101],\n",
       " [339, 75, 45, 39],\n",
       " [414, 94, 75, 45],\n",
       " [416, 103, 31, 34],\n",
       " [519, 67, 64, 74],\n",
       " [521, 97, 53, 42],\n",
       " [532, 69, 47, 40]]"
      ]
     },
     "execution_count": 6,
     "metadata": {},
     "output_type": "execute_result"
    }
   ],
   "source": [
    "rects"
   ]
  },
  {
   "cell_type": "code",
   "execution_count": 7,
   "metadata": {},
   "outputs": [],
   "source": [
    "summ=0\n",
    "for i in rects:\n",
    "    summ+=i[1]"
   ]
  },
  {
   "cell_type": "code",
   "execution_count": 8,
   "metadata": {},
   "outputs": [
    {
     "name": "stdout",
     "output_type": "stream",
     "text": [
      "38.791666666666664\n"
     ]
    }
   ],
   "source": [
    "avg=summ/len(rects)\n",
    "b=[]\n",
    "print(avg/2)"
   ]
  },
  {
   "cell_type": "code",
   "execution_count": 9,
   "metadata": {},
   "outputs": [],
   "source": [
    "for i in rects:\n",
    "    if i[1]< avg/2:\n",
    "        b.append(rects.index(i))\n",
    "        "
   ]
  },
  {
   "cell_type": "code",
   "execution_count": 13,
   "metadata": {},
   "outputs": [],
   "source": [
    "from keras.models import model_from_json"
   ]
  },
  {
   "cell_type": "code",
   "execution_count": 14,
   "metadata": {},
   "outputs": [],
   "source": [
    "import tensorflow as tf\n",
    "import keras.backend.tensorflow_backend as tfback"
   ]
  },
  {
   "cell_type": "code",
   "execution_count": 15,
   "metadata": {},
   "outputs": [],
   "source": [
    "def _get_available_gpus():\n",
    "    \"\"\"Get a list of available gpu devices (formatted as strings).\n",
    "\n",
    "    # Returns\n",
    "        A list of available GPU devices.\n",
    "    \"\"\"\n",
    "    #global _LOCAL_DEVICES\n",
    "    if tfback._LOCAL_DEVICES is None:\n",
    "        devices = tf.config.list_logical_devices()\n",
    "        tfback._LOCAL_DEVICES = [x.name for x in devices]\n",
    "    return [x for x in tfback._LOCAL_DEVICES if 'device:gpu' in x.lower()]"
   ]
  },
  {
   "cell_type": "code",
   "execution_count": 16,
   "metadata": {},
   "outputs": [
    {
     "data": {
      "text/plain": [
       "[]"
      ]
     },
     "execution_count": 16,
     "metadata": {},
     "output_type": "execute_result"
    }
   ],
   "source": [
    "tfback._get_available_gpus = _get_available_gpus\n",
    "tfback._get_available_gpus()"
   ]
  },
  {
   "cell_type": "code",
   "execution_count": 17,
   "metadata": {},
   "outputs": [],
   "source": [
    "json_file = open('model_final.json', 'r')\n",
    "loaded_model_json = json_file.read()\n",
    "json_file.close()\n",
    "loaded_model = model_from_json(loaded_model_json)\n",
    "# load weights into new model\n",
    "loaded_model.load_weights(\"model_final.h5\")"
   ]
  },
  {
   "cell_type": "code",
   "execution_count": 12,
   "metadata": {},
   "outputs": [
    {
     "ename": "NameError",
     "evalue": "name 'train_data' is not defined",
     "output_type": "error",
     "traceback": [
      "\u001b[1;31m---------------------------------------------------------------------------\u001b[0m",
      "\u001b[1;31mNameError\u001b[0m                                 Traceback (most recent call last)",
      "\u001b[1;32m<ipython-input-12-dcaec10db9be>\u001b[0m in \u001b[0;36m<module>\u001b[1;34m\u001b[0m\n\u001b[0;32m      1\u001b[0m \u001b[0ms\u001b[0m\u001b[1;33m=\u001b[0m\u001b[1;34m''\u001b[0m\u001b[1;33m\u001b[0m\u001b[1;33m\u001b[0m\u001b[0m\n\u001b[1;32m----> 2\u001b[1;33m \u001b[1;32mfor\u001b[0m \u001b[0mi\u001b[0m \u001b[1;32min\u001b[0m \u001b[0mrange\u001b[0m\u001b[1;33m(\u001b[0m\u001b[0mlen\u001b[0m\u001b[1;33m(\u001b[0m\u001b[0mtrain_data\u001b[0m\u001b[1;33m)\u001b[0m\u001b[1;33m)\u001b[0m\u001b[1;33m:\u001b[0m\u001b[1;33m\u001b[0m\u001b[1;33m\u001b[0m\u001b[0m\n\u001b[0m\u001b[0;32m      3\u001b[0m     \u001b[0mtrain_data\u001b[0m\u001b[1;33m[\u001b[0m\u001b[0mi\u001b[0m\u001b[1;33m]\u001b[0m\u001b[1;33m=\u001b[0m\u001b[0mnp\u001b[0m\u001b[1;33m.\u001b[0m\u001b[0marray\u001b[0m\u001b[1;33m(\u001b[0m\u001b[0mtrain_data\u001b[0m\u001b[1;33m[\u001b[0m\u001b[0mi\u001b[0m\u001b[1;33m]\u001b[0m\u001b[1;33m)\u001b[0m\u001b[1;33m\u001b[0m\u001b[1;33m\u001b[0m\u001b[0m\n\u001b[0;32m      4\u001b[0m     \u001b[0mtrain_data\u001b[0m\u001b[1;33m[\u001b[0m\u001b[0mi\u001b[0m\u001b[1;33m]\u001b[0m\u001b[1;33m=\u001b[0m\u001b[0mtrain_data\u001b[0m\u001b[1;33m[\u001b[0m\u001b[0mi\u001b[0m\u001b[1;33m]\u001b[0m\u001b[1;33m.\u001b[0m\u001b[0mreshape\u001b[0m\u001b[1;33m(\u001b[0m\u001b[1;36m1\u001b[0m\u001b[1;33m,\u001b[0m\u001b[1;36m1\u001b[0m\u001b[1;33m,\u001b[0m\u001b[1;36m28\u001b[0m\u001b[1;33m,\u001b[0m\u001b[1;36m28\u001b[0m\u001b[1;33m)\u001b[0m\u001b[1;33m\u001b[0m\u001b[1;33m\u001b[0m\u001b[0m\n\u001b[0;32m      5\u001b[0m     \u001b[0mresult\u001b[0m\u001b[1;33m=\u001b[0m\u001b[0mloaded_model\u001b[0m\u001b[1;33m.\u001b[0m\u001b[0mpredict_classes\u001b[0m\u001b[1;33m(\u001b[0m\u001b[0mtrain_data\u001b[0m\u001b[1;33m[\u001b[0m\u001b[0mi\u001b[0m\u001b[1;33m]\u001b[0m\u001b[1;33m)\u001b[0m\u001b[1;33m\u001b[0m\u001b[1;33m\u001b[0m\u001b[0m\n",
      "\u001b[1;31mNameError\u001b[0m: name 'train_data' is not defined"
     ]
    }
   ],
   "source": [
    "s=''\n",
    "for i in range(len(train_data)):\n",
    "    train_data[i]=np.array(train_data[i])\n",
    "    train_data[i]=train_data[i].reshape(1,1,28,28)\n",
    "    result=loaded_model.predict_classes(train_data[i])\n",
    "    if(result[0]==10):\n",
    "        s=s+'-'\n",
    "    if(result[0]==11):\n",
    "        s=s+'+'\n",
    "    if(result[0]==12):\n",
    "        s=s+'*'\n",
    "    if(result[0]==0):\n",
    "        s=s+'0'\n",
    "    if(result[0]==1):\n",
    "        s=s+'1'\n",
    "    if(result[0]==2):\n",
    "        s=s+'2'\n",
    "    if(result[0]==3):\n",
    "        s=s+'3'\n",
    "    if(result[0]==4):\n",
    "        s=s+'4'\n",
    "    if(result[0]==5):\n",
    "        s=s+'5'\n",
    "    if(result[0]==6):\n",
    "        s=s+'6'\n",
    "    if(result[0]==7):\n",
    "        s=s+'7'\n",
    "    if(result[0]==8):\n",
    "        s=s+'8'\n",
    "    if(result[0]==9):\n",
    "        s=s+'9'\n",
    "    if (result[0]==13):\n",
    "        s=s+')'\n",
    "    if (result[0]==14):\n",
    "        s=s+'('\n",
    "    if (result[0]==15):\n",
    "        s=s+' forall '\n",
    "    if (result[0]==16):\n",
    "        s=s+' lambda '\n",
    "    if (result[0]==17):\n",
    "        s=s+' mu '\n",
    "    if (result[0]==18):\n",
    "        s=s+' p '\n",
    "    if (result[0]==19):\n",
    "        s=s+' sigma '\n",
    "    if (result[0]==20):\n",
    "        s=s+' theta'\n",
    "    \n",
    "print(s)"
   ]
  },
  {
   "cell_type": "code",
   "execution_count": null,
   "metadata": {},
   "outputs": [],
   "source": []
  },
  {
   "cell_type": "code",
   "execution_count": null,
   "metadata": {},
   "outputs": [],
   "source": []
  }
 ],
 "metadata": {
  "kernelspec": {
   "display_name": "Python 3",
   "language": "python",
   "name": "python3"
  },
  "language_info": {
   "codemirror_mode": {
    "name": "ipython",
    "version": 3
   },
   "file_extension": ".py",
   "mimetype": "text/x-python",
   "name": "python",
   "nbconvert_exporter": "python",
   "pygments_lexer": "ipython3",
   "version": "3.7.6"
  }
 },
 "nbformat": 4,
 "nbformat_minor": 4
}
